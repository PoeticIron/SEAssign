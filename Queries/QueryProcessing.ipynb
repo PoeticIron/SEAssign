{
 "cells": [
  {
   "cell_type": "markdown",
   "metadata": {},
   "source": [
    "# Query Processing Code\n"
   ]
  },
  {
   "cell_type": "code",
   "execution_count": 1,
   "metadata": {},
   "outputs": [],
   "source": [
    "##read the three query files\n",
    "filename1 = \"topics.51-100.txt\"\n",
    "filename2 = \"topics.101-150.txt\"\n",
    "filename3 = \"topics.151-200.txt\"\n",
    "\n",
    "with open(filename1, \"rb\") as f:\n",
    "    content1 = f.read().decode('utf-8')\n",
    "with open(filename2, \"rb\") as f:\n",
    "    content2 = f.read().decode('utf-8')\n",
    "with open(filename3, \"rb\") as f:\n",
    "    content3 = f.read().decode('utf-8')\n"
   ]
  },
  {
   "cell_type": "code",
   "execution_count": 4,
   "metadata": {},
   "outputs": [],
   "source": [
    "##grab individual queries\n",
    "import re\n",
    "\n",
    "filteredQ1 = []\n",
    "filteredQ2 = []\n",
    "filteredQ3 = []\n",
    "\n",
    "q1 = content1.split(\"<title>\")\n",
    "q2 = content2.split(\"<title>\")\n",
    "q3 = content3.split(\"<title>\")\n",
    "q1.pop(0)\n",
    "q2.pop(0)\n",
    "q3.pop(0)\n",
    "\n",
    "##For each list of queries:\n",
    "##Grab only the Topic bracket, and remove the 'Topic:' section\n",
    "##Replace dashes and slashes with spaces to separate conjoined terms\n",
    "##Strip all non-alpha/space characters\n",
    "##Strip double-spacing\n",
    "##Remove starting whitespace\n",
    "##append to filtered lists.\n",
    "for q in q1:\n",
    "    text = q.split(\"<desc>\")[0].replace(\"Topic:\",\"\")\n",
    "    text =text.replace(\"/\", \" \")\n",
    "    text =text.replace(\"-\", \" \")\n",
    "    text =text.replace(\"\\n\", \" \")\n",
    "    text =text.replace(\".\", \" \")\n",
    "    text = re.sub(\"[^a-zA-Z ]\",\"\", text)\n",
    "    text = re.sub(\" +\",\" \", text)\n",
    "    text = text.lstrip()\n",
    "    filteredQ1.append(text)\n",
    "for q in q2:\n",
    "    text = q.split(\"<desc>\")[0].replace(\"Topic:\",\"\")\n",
    "    text =text.replace(\"/\", \" \")\n",
    "    text =text.replace(\"-\", \" \")\n",
    "    text =text.replace(\"\\n\", \" \")\n",
    "    text =text.replace(\".\", \" \")\n",
    "    text = re.sub(\"[^a-zA-Z ]\",\"\", text)\n",
    "    text = re.sub(\" +\",\" \", text)\n",
    "    text = text.lstrip()\n",
    "    filteredQ2.append(text)\n",
    "for q in q3:\n",
    "    text = q.split(\"<desc>\")[0].replace(\"Topic:\",\"\")\n",
    "    text =text.replace(\"/\", \" \")\n",
    "    text =text.replace(\"-\", \" \")\n",
    "    text =text.replace(\"\\n\", \" \")\n",
    "    text =text.replace(\".\", \" \")\n",
    "    text = re.sub(\"[^a-zA-Z ]\",\"\", text)\n",
    "    text = re.sub(\" +\",\" \", text)\n",
    "    text = text.lstrip()\n",
    "    filteredQ3.append(text)\n"
   ]
  },
  {
   "cell_type": "code",
   "execution_count": 5,
   "metadata": {},
   "outputs": [],
   "source": [
    "f = open(\"Output.txt\",\"w\")\n",
    "qNo = 51\n",
    "##output individual queries to text file\n",
    "for qu in filteredQ1:\n",
    "    f.write(\"<top>\\n\")\n",
    "    f.write(\"<num>\" + str(qNo) + \"</num><title>\\n\")\n",
    "    f.write(qu)\n",
    "    f.write(\"\\n</title>\\n\")\n",
    "    f.write(\"</top>\\n\")\n",
    "    qNo = qNo+1\n",
    "for qu in filteredQ2:\n",
    "    f.write(\"<top>\\n\")\n",
    "    f.write(\"<num>\" + str(qNo) + \"</num><title>\\n\")\n",
    "    f.write(qu)\n",
    "    f.write(\"\\n</title>\\n\")\n",
    "    f.write(\"</top>\\n\")\n",
    "    qNo = qNo+1\n",
    "for qu in filteredQ3:\n",
    "    f.write(\"<top>\\n\")\n",
    "    f.write(\"<num>\" + str(qNo) + \"</num><title>\\n\")\n",
    "    f.write(qu)\n",
    "    f.write(\"\\n</title>\\n\")\n",
    "    f.write(\"</top>\\n\")\n",
    "    qNo = qNo+1\n"
   ]
  },
  {
   "cell_type": "code",
   "execution_count": null,
   "metadata": {},
   "outputs": [],
   "source": []
  }
 ],
 "metadata": {
  "kernelspec": {
   "display_name": "Python 3",
   "language": "python",
   "name": "python3"
  },
  "language_info": {
   "codemirror_mode": {
    "name": "ipython",
    "version": 3
   },
   "file_extension": ".py",
   "mimetype": "text/x-python",
   "name": "python",
   "nbconvert_exporter": "python",
   "pygments_lexer": "ipython3",
   "version": "3.6.4"
  }
 },
 "nbformat": 4,
 "nbformat_minor": 2
}
